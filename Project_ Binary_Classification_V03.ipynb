{
 "cells": [
  {
   "cell_type": "code",
   "execution_count": null,
   "id": "2d6f7e16-a9e0-4961-829d-3aec6073e4b0",
   "metadata": {},
   "outputs": [
    {
     "name": "stdout",
     "output_type": "stream",
     "text": [
      "\u001b[33mWARNING: Running pip as the 'root' user can result in broken permissions and conflicting behaviour with the system package manager, possibly rendering your system unusable. It is recommended to use a virtual environment instead: https://pip.pypa.io/warnings/venv. Use the --root-user-action option if you know what you are doing and want to suppress this warning.\u001b[0m\u001b[33m\n",
      "\u001b[0m/usr/local/lib/python3.11/dist-packages/gdown/__main__.py:140: FutureWarning: Option `--id` was deprecated in version 4.3.1 and will be removed in 5.0. You don't need to pass it anymore to use a file ID.\n",
      "  warnings.warn(\n",
      "Downloading...\n",
      "From (original): https://drive.google.com/uc?id=1vC5YVpAaK5QxoZRECKwPrgVQJeIFrQrK\n",
      "From (redirected): https://drive.google.com/uc?id=1vC5YVpAaK5QxoZRECKwPrgVQJeIFrQrK&confirm=t&uuid=377761a7-bb76-4e10-bfff-87b8675a267d\n",
      "To: /lab2/cross_out_dataset.zip\n",
      "100%|███████████████████████████████████████| 3.64G/3.64G [00:30<00:00, 121MB/s]\n",
      "replace cross_out_dataset/cross_out_dataset/train/images/ZIG_ZAG/r02-013-09-01.png? [y]es, [n]o, [A]ll, [N]one, [r]ename: "
     ]
    }
   ],
   "source": [
    "# Step 1: Install gdown if needed\n",
    "!pip install -q gdown\n",
    "\n",
    "# Step 2: Download the dataset from Google Drive\n",
    "!gdown --id 1vC5YVpAaK5QxoZRECKwPrgVQJeIFrQrK --output cross_out_dataset.zip\n",
    "\n",
    "# Step 3: Unzip it\n",
    "!unzip -q cross_out_dataset.zip -d cross_out_dataset\n"
   ]
  },
  {
   "cell_type": "code",
   "execution_count": null,
   "id": "c38e541c-dd12-4824-8c1a-76df1006a082",
   "metadata": {},
   "outputs": [],
   "source": [
    "# ========== Import Libraries ==========\n",
    "import os\n",
    "import torch\n",
    "import torch.nn as nn\n",
    "import torch.nn.functional as F\n",
    "import torch.optim as optim\n",
    "import matplotlib.pyplot as plt\n",
    "from PIL import Image\n",
    "from torch.utils.data import Dataset, DataLoader\n",
    "import torchvision.transforms as transforms\n",
    "\n",
    "# ========== Custom Dataset Class ==========\n",
    "class CrossOutBinaryDataset(Dataset):\n",
    "    def __init__(self, root_dir, transform=None):\n",
    "        # Define paths to clean and crossed-out images\n",
    "        self.clean_dir = os.path.join(root_dir, \"CLEAN\")\n",
    "        self.crossed_dir = os.path.join(root_dir, \"CROSS\")\n",
    "        self.transform = transform\n",
    "\n",
    "        self.image_paths = []\n",
    "        self.labels = []\n",
    "\n",
    "        # Supported image formats\n",
    "        valid_extensions = {\".jpg\", \".jpeg\", \".png\", \".bmp\", \".gif\", \".tif\", \".tiff\"}\n",
    "\n",
    "        # Load all clean images with label 0\n",
    "        for img_name in os.listdir(self.clean_dir):\n",
    "            if os.path.splitext(img_name.lower())[1] in valid_extensions:\n",
    "                self.image_paths.append(os.path.join(self.clean_dir, img_name))\n",
    "                self.labels.append(0)\n",
    "\n",
    "        # Load all crossed-out images with label 1\n",
    "        for img_name in os.listdir(self.crossed_dir):\n",
    "            if os.path.splitext(img_name.lower())[1] in valid_extensions:\n",
    "                self.image_paths.append(os.path.join(self.crossed_dir, img_name))\n",
    "                self.labels.append(1)\n",
    "\n",
    "    def __len__(self):\n",
    "        return len(self.image_paths)\n",
    "\n",
    "    def __getitem__(self, idx):\n",
    "        # Get image path and label\n",
    "        image_path = self.image_paths[idx]\n",
    "        label = self.labels[idx]\n",
    "\n",
    "        # Open image safely\n",
    "        try:\n",
    "            image = Image.open(image_path).convert(\"RGB\")\n",
    "        except Exception as e:\n",
    "            print(f\"Warning: Failed to open image {image_path}. Error: {e}\")\n",
    "            image = Image.new(\"RGB\", (128, 128))  # Use black fallback image if error\n",
    "\n",
    "        # Apply transform if defined\n",
    "        if self.transform:\n",
    "            image = self.transform(image)\n",
    "\n",
    "        return image, torch.tensor(label)\n",
    "\n",
    "# ========== Transforms / Data Augmentation ==========\n",
    "\n",
    "# Data augmentation for training data\n",
    "train_transform = transforms.Compose([\n",
    "    transforms.Grayscale(num_output_channels=1),         # Convert to grayscale\n",
    "    transforms.RandomRotation(degrees=5),                # Random rotation\n",
    "    transforms.RandomAffine(degrees=0, translate=(0.05, 0.05)),  # Small translation\n",
    "    transforms.Resize((128, 128)),                       # Resize to 128x128\n",
    "    transforms.ToTensor()                                # Convert to PyTorch tensor\n",
    "])\n",
    "\n",
    "# Simple transform for validation and test data (no augmentation)\n",
    "val_test_transform = transforms.Compose([\n",
    "    transforms.Grayscale(num_output_channels=1),\n",
    "    transforms.Resize((128, 128)),\n",
    "    transforms.ToTensor()\n",
    "])\n",
    "\n",
    "# Backup transform (not used later)\n",
    "transform = transforms.Compose([\n",
    "    transforms.Grayscale(num_output_channels=1),\n",
    "    transforms.Resize((128, 128)),\n",
    "    transforms.ToTensor()\n",
    "])\n",
    "\n",
    "# ========== Dataset Paths ==========\n",
    "train_path = \"/lab2/cross_out_dataset/cross_out_dataset/train/images\"\n",
    "val_path   = \"/lab2/cross_out_dataset/cross_out_dataset/val/images\"\n",
    "test_path  = \"/lab2/cross_out_dataset/cross_out_dataset/test/images\"\n",
    "\n",
    "# ========== Dataset & Dataloaders ==========\n",
    "train_dataset = CrossOutBinaryDataset(train_path, transform=train_transform)\n",
    "val_dataset   = CrossOutBinaryDataset(val_path, transform=val_test_transform)\n",
    "test_dataset  = CrossOutBinaryDataset(test_path, transform=val_test_transform)\n",
    "\n",
    "train_loader = DataLoader(train_dataset, batch_size=32, shuffle=True)\n",
    "val_loader   = DataLoader(val_dataset, batch_size=32, shuffle=True)\n",
    "test_loader  = DataLoader(test_dataset, batch_size=32, shuffle=True)\n",
    "\n",
    "# ========== Visualize Sample Batch ==========\n",
    "images, labels = next(iter(train_loader))\n",
    "fig, axes = plt.subplots(2, 4, figsize=(12, 6))\n",
    "for i, ax in enumerate(axes.flat):\n",
    "    img = images[i]\n",
    "    ax.imshow(img.squeeze(0), cmap='gray')  # Display grayscale image\n",
    "    label = \"Crossed-Out\" if labels[i].item() == 1 else \"Clean\"\n",
    "    ax.set_title(label)\n",
    "    ax.axis('off')\n",
    "plt.tight_layout()\n",
    "plt.show()\n",
    "\n",
    "# ========== CNN Model Definition ==========\n",
    "class CrossOutCNN(nn.Module):\n",
    "    def __init__(self):\n",
    "        super(CrossOutCNN, self).__init__()\n",
    "        # Convolutional layers\n",
    "        self.conv1 = nn.Conv2d(1, 16, kernel_size=3, padding=1)\n",
    "        self.pool = nn.MaxPool2d(2, 2)\n",
    "        self.conv2 = nn.Conv2d(16, 32, kernel_size=3, padding=1)\n",
    "\n",
    "        # Fully connected layers\n",
    "        self.fc1 = nn.Linear(32 * 32 * 32, 128)\n",
    "        self.dropout = nn.Dropout(0.3)  # Dropout for regularization\n",
    "        self.fc2 = nn.Linear(128, 1)    # Output layer for binary classification\n",
    "\n",
    "    def forward(self, x):\n",
    "        # Pass through conv and pooling layers\n",
    "        x = self.pool(F.relu(self.conv1(x)))\n",
    "        x = self.pool(F.relu(self.conv2(x)))\n",
    "\n",
    "        # Flatten\n",
    "        x = x.view(-1, 32 * 32 * 32)\n",
    "\n",
    "        # Fully connected layers\n",
    "        x = F.relu(self.fc1(x))\n",
    "        x = self.dropout(x)  # Apply dropout\n",
    "        x = torch.sigmoid(self.fc2(x))  # Output in range [0,1] for binary classification\n",
    "        return x\n",
    "\n",
    "# ========== Model Setup ==========\n",
    "model = CrossOutCNN()\n",
    "device = torch.device('cuda' if torch.cuda.is_available() else 'cpu')\n",
    "model = model.to(device)\n",
    "\n",
    "# Loss function and optimizer\n",
    "criterion = nn.BCELoss()  # Binary Cross-Entropy Loss\n",
    "optimizer = optim.Adam(model.parameters(), lr=0.001, weight_decay=1e-5)  # Weight decay for L2 regularization\n",
    "\n",
    "# ========== Training Function ==========\n",
    "def train_model(model, train_loader, val_loader, criterion, optimizer, device, num_epochs=10):\n",
    "    for epoch in range(num_epochs):\n",
    "        model.train()  # Set model to training mode\n",
    "        running_loss = 0.0\n",
    "        correct = 0\n",
    "        total = 0\n",
    "\n",
    "        for images, labels in train_loader:\n",
    "            images, labels = images.to(device), labels.to(device).float().unsqueeze(1)\n",
    "\n",
    "            outputs = model(images)\n",
    "            loss = criterion(outputs, labels)\n",
    "\n",
    "            optimizer.zero_grad()\n",
    "            loss.backward()\n",
    "            optimizer.step()\n",
    "\n",
    "            running_loss += loss.item()\n",
    "            preds = (outputs > 0.5).float()  # Threshold at 0.5\n",
    "            correct += (preds == labels).sum().item()\n",
    "            total += labels.size(0)\n",
    "\n",
    "        train_acc = 100 * correct / total\n",
    "        avg_loss = running_loss / len(train_loader)\n",
    "\n",
    "        # Validation step\n",
    "        model.eval()\n",
    "        val_loss = 0.0\n",
    "        val_correct = 0\n",
    "        val_total = 0\n",
    "        with torch.no_grad():\n",
    "            for images, labels in val_loader:\n",
    "                images, labels = images.to(device), labels.to(device).float().unsqueeze(1)\n",
    "                outputs = model(images)\n",
    "                loss = criterion(outputs, labels)\n",
    "\n",
    "                val_loss += loss.item()\n",
    "                preds = (outputs > 0.5).float()\n",
    "                val_correct += (preds == labels).sum().item()\n",
    "                val_total += labels.size(0)\n",
    "\n",
    "        val_acc = 100 * val_correct / val_total\n",
    "        avg_val_loss = val_loss / len(val_loader)\n",
    "\n",
    "        print(f\"Epoch [{epoch+1}/{num_epochs}] \"\n",
    "              f\"Train Loss: {avg_loss:.4f}, Train Acc: {train_acc:.2f}% | \"\n",
    "              f\"Val Loss: {avg_val_loss:.4f}, Val Acc: {val_acc:.2f}%\")\n",
    "\n",
    "# ========== Start Training ==========\n",
    "train_model(model, train_loader, val_loader, criterion, optimizer, device, num_epochs=10)\n"
   ]
  },
  {
   "cell_type": "code",
   "execution_count": 29,
   "id": "8f58ab36-7827-4007-a0ce-7ee90ad64240",
   "metadata": {},
   "outputs": [],
   "source": [
    "#Save the model\n",
    "torch.save(model.state_dict(), \"crossed_out_classifier.pth\")\n"
   ]
  },
  {
   "cell_type": "code",
   "execution_count": null,
   "id": "a1e54118-bf7a-4399-9794-dd265e88126c",
   "metadata": {},
   "outputs": [],
   "source": [
    "##the below section is for manual testing perposes \n"
   ]
  },
  {
   "cell_type": "code",
   "execution_count": 17,
   "id": "edc01f56-88ed-4991-bd49-de925b3d24c9",
   "metadata": {},
   "outputs": [
    {
     "name": "stdout",
     "output_type": "stream",
     "text": [
      "Sample Image Path: /lab2/cross_out_dataset/cross_out_dataset/train/images/CLEAN/e02-082-07-01.png\n"
     ]
    }
   ],
   "source": [
    "import random\n",
    "\n",
    "random_idx = random.randint(0, len(train_dataset) - 1)\n",
    "sample_image_path = train_dataset.image_paths[random_idx]\n",
    "print(\"Sample Image Path:\", sample_image_path)\n"
   ]
  },
  {
   "cell_type": "code",
   "execution_count": 18,
   "id": "d57c4002-81a0-4330-b438-823bffc7cf36",
   "metadata": {},
   "outputs": [
    {
     "name": "stdout",
     "output_type": "stream",
     "text": [
      "Prediction: Clean\n"
     ]
    }
   ],
   "source": [
    "from PIL import Image\n",
    "\n",
    "model.eval()\n",
    "image_path = \"/lab2/cross_out_dataset/cross_out_dataset/train/images/CLEAN/e01-086-01-04.png\"  # 👈 use an actual image here\n",
    "image = Image.open(image_path).convert(\"RGB\")\n",
    "image = transform(image).unsqueeze(0).to(device)\n",
    "\n",
    "with torch.no_grad():\n",
    "    output = model(image)\n",
    "    pred = \"Crossed-Out\" if output.item() > 0.5 else \"Clean\"\n",
    "\n",
    "print(f\"Prediction: {pred}\")\n"
   ]
  },
  {
   "cell_type": "code",
   "execution_count": 19,
   "id": "b4388350-0ce7-4910-b6f1-77216d8a3480",
   "metadata": {},
   "outputs": [
    {
     "data": {
      "image/jpeg": "[encoded data removed]",
      "image/png": "[encoded data removed]",
      "text/plain": [
       "<PIL.PngImagePlugin.PngImageFile image mode=L size=178x67>"
      ]
     },
     "metadata": {},
     "output_type": "display_data"
    },
    {
     "name": "stdout",
     "output_type": "stream",
     "text": [
      "Clean\n"
     ]
    }
   ],
   "source": [
    "from IPython.display import display\n",
    "display(Image.open(\"/lab2/cross_out_dataset/cross_out_dataset/train/images/CLEAN/e01-086-01-04.png\"))\n",
    "print(pred)  # Model's output\n"
   ]
  },
  {
   "cell_type": "code",
   "execution_count": 20,
   "id": "a2c824d4-1a4a-4377-8ca9-af95b516adfe",
   "metadata": {},
   "outputs": [
    {
     "name": "stdout",
     "output_type": "stream",
     "text": [
      "Sample Image Path: /lab2/cross_out_dataset/cross_out_dataset/train/images/CLEAN/c06-014-03-01.png\n"
     ]
    }
   ],
   "source": [
    "import random\n",
    "\n",
    "random_idx = random.randint(0, len(train_dataset) - 1)\n",
    "sample_image_path = train_dataset.image_paths[random_idx]\n",
    "print(\"Sample Image Path:\", sample_image_path)\n"
   ]
  },
  {
   "cell_type": "code",
   "execution_count": 21,
   "id": "0cdf9d59-bc6d-4568-8d93-c30cad835444",
   "metadata": {},
   "outputs": [
    {
     "name": "stdout",
     "output_type": "stream",
     "text": [
      "Prediction: Crossed-Out\n"
     ]
    }
   ],
   "source": [
    "from PIL import Image\n",
    "\n",
    "model.eval()\n",
    "image_path = \"/lab2/cross_out_dataset/cross_out_dataset/train/images/CROSS/a04-089-07-02.png\"  # 👈 use an actual image here\n",
    "image = Image.open(image_path).convert(\"RGB\")\n",
    "image = transform(image).unsqueeze(0).to(device)\n",
    "\n",
    "with torch.no_grad():\n",
    "    output = model(image)\n",
    "    pred = \"Crossed-Out\" if output.item() > 0.5 else \"Clean\"\n",
    "\n",
    "print(f\"Prediction: {pred}\")\n"
   ]
  },
  {
   "cell_type": "code",
   "execution_count": 22,
   "id": "76df3137-fe1a-4b93-afd4-7cbcffa24fe8",
   "metadata": {},
   "outputs": [
    {
     "data": {
      "image/jpeg": "[encoded data removed]",
      "image/png": "[encoded data removed]",
      "text/plain": [
       "<PIL.PngImagePlugin.PngImageFile image mode=L size=166x82>"
      ]
     },
     "metadata": {},
     "output_type": "display_data"
    },
    {
     "name": "stdout",
     "output_type": "stream",
     "text": [
      "Crossed-Out\n"
     ]
    }
   ],
   "source": [
    "from IPython.display import display\n",
    "display(Image.open(\"/lab2/cross_out_dataset/cross_out_dataset/train/images/CROSS/a04-089-07-02.png\"))\n",
    "print(pred)  # Model's output\n"
   ]
  },
  {
   "cell_type": "code",
   "execution_count": 23,
   "id": "c278c5ad-9f77-4bb3-81ec-1cd04b77b577",
   "metadata": {},
   "outputs": [
    {
     "data": {
      "image/png": "[encoded data removed]",
      "text/plain": [
       "<Figure size 600x600 with 2 Axes>"
      ]
     },
     "metadata": {},
     "output_type": "display_data"
    }
   ],
   "source": [
    "import matplotlib.pyplot as plt\n",
    "from sklearn.metrics import confusion_matrix\n",
    "import numpy as np\n",
    "\n",
    "# Initialize empty lists to store true labels and predicted labels\n",
    "y_true = []\n",
    "y_pred = []\n",
    "\n",
    "# Set the model to evaluation mode (disables dropout, etc.)\n",
    "model.eval()\n",
    "\n",
    "# Disable gradient computation for evaluation (faster and memory-efficient)\n",
    "with torch.no_grad():\n",
    "    # Iterate through the validation data\n",
    "    for images, labels in val_loader:\n",
    "        # Move data to GPU if available\n",
    "        images, labels = images.to(device), labels.to(device)\n",
    "\n",
    "        # Get model predictions\n",
    "        outputs = model(images)\n",
    "\n",
    "        # Convert sigmoid outputs to binary (0 or 1) using threshold of 0.5\n",
    "        preds = (outputs > 0.5).float()\n",
    "\n",
    "        # Append true and predicted labels to lists (convert to NumPy for sklearn)\n",
    "        y_true.extend(labels.cpu().numpy())  # Move to CPU, convert to NumPy array\n",
    "        y_pred.extend(preds.cpu().numpy())\n",
    "\n",
    "# Compute confusion matrix\n",
    "# Rows: Actual classes, Columns: Predicted classes\n",
    "cm = confusion_matrix(y_true, y_pred)\n",
    "\n",
    "# Plot the confusion matrix\n",
    "fig, ax = plt.subplots(figsize=(6, 6))  # Create a square plot\n",
    "im = ax.imshow(cm, interpolation='nearest', cmap=plt.cm.Blues)  # Show matrix as an image\n",
    "ax.figure.colorbar(im, ax=ax)  # Add colorbar legend\n",
    "\n",
    "# Define class names for display\n",
    "classes = [\"Clean\", \"Crossed-Out\"]\n",
    "tick_marks = np.arange(len(classes))\n",
    "\n",
    "# Set axis labels and ticks\n",
    "ax.set(xticks=tick_marks, yticks=tick_marks,\n",
    "       xticklabels=classes, yticklabels=classes,\n",
    "       ylabel='True label', xlabel='Predicted label')\n",
    "\n",
    "# Add counts to each cell in the confusion matrix\n",
    "# Change text color based on the background color for readability\n",
    "thresh = cm.max() / 2.\n",
    "for i in range(cm.shape[0]):\n",
    "    for j in range(cm.shape[1]):\n",
    "        ax.text(j, i, format(cm[i, j], 'd'),  # Print integer value\n",
    "                ha=\"center\", va=\"center\",\n",
    "                color=\"white\" if cm[i, j] > thresh else \"black\")\n",
    "\n",
    "# Ensure everything fits nicely\n",
    "plt.tight_layout()\n",
    "plt.show()\n"
   ]
  },
  {
   "cell_type": "code",
   "execution_count": 25,
   "id": "9c62bff3-f2bd-4063-a2b1-6b5911dc93cd",
   "metadata": {},
   "outputs": [],
   "source": [
    "import os\n",
    "\n",
    "class CrossOutBinaryDataset(Dataset):\n",
    "    def __init__(self, root_dir, transform=None):\n",
    "        self.root_dir = root_dir  # Root directory for images\n",
    "        self.transform = transform\n",
    "\n",
    "        self.image_paths = []\n",
    "        self.labels = []\n",
    "\n",
    "        valid_extensions = {\".jpg\", \".jpeg\", \".png\", \".bmp\", \".gif\", \".tif\", \".tiff\"}\n",
    "\n",
    "        # Loop through each subdirectory in the root directory (e.g., SCRATCH, ZIG_ZAG)\n",
    "        for sub_dir in os.listdir(self.root_dir):\n",
    "            sub_dir_path = os.path.join(self.root_dir, sub_dir)\n",
    "\n",
    "            if os.path.isdir(sub_dir_path):\n",
    "                for img_name in os.listdir(sub_dir_path):\n",
    "                    if os.path.splitext(img_name.lower())[1] in valid_extensions:\n",
    "                        self.image_paths.append(os.path.join(sub_dir_path, img_name))\n",
    "                        \n",
    "                        # Assign label based on subdirectory name\n",
    "                        # You can adjust this logic as needed\n",
    "                        label = 1  # Example: all images in subdirectories are considered crossed-out\n",
    "                        self.labels.append(label)\n",
    "\n",
    "    def __len__(self):\n",
    "        return len(self.image_paths)\n",
    "\n",
    "    def __getitem__(self, idx):\n",
    "        image_path = self.image_paths[idx]\n",
    "        label = self.labels[idx]\n",
    "\n",
    "        try:\n",
    "            image = Image.open(image_path).convert(\"RGB\")\n",
    "        except Exception as e:\n",
    "            print(f\"Warning: Failed to open image {image_path}. Error: {e}\")\n",
    "            image = Image.new(\"RGB\", (128, 128))  # Fallback: black image\n",
    "\n",
    "        if self.transform:\n",
    "            image = self.transform(image)\n",
    "\n",
    "        return image, torch.tensor(label)\n"
   ]
  },
  {
   "cell_type": "code",
   "execution_count": 31,
   "id": "e0572c60-ddea-416f-b588-0d0a87369380",
   "metadata": {},
   "outputs": [
    {
     "name": "stdout",
     "output_type": "stream",
     "text": [
      "Test Accuracy: 67.60%\n",
      "Time taken for inference: 98.52 seconds\n"
     ]
    },
    {
     "data": {
      "image/png": "[encoded data removed]",
      "text/plain": [
       "<Figure size 600x600 with 2 Axes>"
      ]
     },
     "metadata": {},
     "output_type": "display_data"
    }
   ],
   "source": [
    "import time\n",
    "from sklearn.metrics import confusion_matrix\n",
    "import matplotlib.pyplot as plt\n",
    "import numpy as np\n",
    "\n",
    "# Start timer to measure inference duration\n",
    "start_time = time.time()\n",
    "\n",
    "# Set model to evaluation mode (disables dropout, batchnorm, etc.)\n",
    "model.eval()\n",
    "\n",
    "# Counters for accuracy\n",
    "correct = 0\n",
    "total = 0\n",
    "\n",
    "# Lists for collecting true and predicted labels for confusion matrix\n",
    "y_true = []\n",
    "y_pred = []\n",
    "\n",
    "# Disable gradient calculation for efficiency during inference\n",
    "with torch.no_grad():\n",
    "    # Iterate over the test dataset\n",
    "    for images, labels in test_loader:\n",
    "        # Move inputs and labels to the appropriate device (GPU or CPU)\n",
    "        images, labels = images.to(device), labels.to(device).float().unsqueeze(1)\n",
    "\n",
    "        # Get model predictions (sigmoid output)\n",
    "        outputs = model(images)\n",
    "\n",
    "        # Convert probabilities to binary predictions (0 or 1)\n",
    "        preds = (outputs > 0.5).float()\n",
    "\n",
    "        # Accuracy computation\n",
    "        correct += (preds == labels).sum().item()\n",
    "        total += labels.size(0)\n",
    "\n",
    "        # Save predictions and true labels for confusion matrix\n",
    "        y_true.extend(labels.cpu().numpy())\n",
    "        y_pred.extend(preds.cpu().numpy())\n",
    "\n",
    "# Compute final accuracy\n",
    "test_accuracy = 100 * correct / total\n",
    "\n",
    "# Display results\n",
    "print(f\"Test Accuracy: {test_accuracy:.2f}%\")\n",
    "print(f\"Time taken for inference: {processing_time:.2f} seconds\")\n",
    "\n",
    "# -------------------------------\n",
    "# CONFUSION MATRIX\n",
    "# -------------------------------\n",
    "# Compute confusion matrix from collected predictions\n",
    "cm = confusion_matrix(y_true, y_pred)\n",
    "\n",
    "# Plot the confusion matrix\n",
    "fig, ax = plt.subplots(figsize=(6, 6))\n",
    "im = ax.imshow(cm, interpolation='nearest', cmap=plt.cm.Blues)\n",
    "ax.figure.colorbar(im, ax=ax)\n",
    "\n",
    "# Define class labels\n",
    "classes = [\"Clean\", \"Crossed-Out\"]\n",
    "tick_marks = np.arange(len(classes))\n",
    "\n",
    "# Label the axes and ticks\n",
    "ax.set(xticks=tick_marks, yticks=tick_marks,\n",
    "       xticklabels=classes, yticklabels=classes,\n",
    "       ylabel='True label', xlabel='Predicted label',\n",
    "       title='Confusion Matrix - Test Set')\n",
    "\n",
    "# Annotate each cell with its value\n",
    "thresh = cm.max() / 2.\n",
    "for i in range(cm.shape[0]):\n",
    "    for j in range(cm.shape[1]):\n",
    "        ax.text(j, i, format(cm[i, j], 'd'),\n",
    "                ha=\"center\", va=\"center\",\n",
    "                color=\"white\" if cm[i, j] > thresh else \"black\")\n",
    "\n",
    "plt.tight_layout()\n",
    "plt.show()\n"
   ]
  },
  {
   "cell_type": "code",
   "execution_count": null,
   "id": "485ceda2-05a7-4924-8c02-88675b1d63f5",
   "metadata": {},
   "outputs": [],
   "source": [
    "import os\n",
    "\n",
    "root_dir = 'cross_out_dataset'  # your main dataset folder\n",
    "\n",
    "for root, dirs, files in os.walk(root_dir):\n",
    "    print(f\"Current Directory: {root}\")\n",
    "    for dir_name in dirs:\n",
    "        print(f\"  Subfolder: {dir_name}\")\n",
    "    for file_name in files:\n",
    "        print(f\"  File: {file_name}\")\n"
   ]
  },
  {
   "cell_type": "code",
   "execution_count": null,
   "id": "9ede1e0e-6f31-4477-9b0a-b87fafd61a90",
   "metadata": {},
   "outputs": [],
   "source": [
    "for root, dirs, _ in os.walk('cross_out_dataset'):\n",
    "    for dir_name in dirs:\n",
    "        print(os.path.join(root, dir_name))\n"
   ]
  },
  {
   "cell_type": "code",
   "execution_count": null,
   "id": "68000cba-a955-4a49-acb4-6501c7d83a51",
   "metadata": {},
   "outputs": [],
   "source": []
  }
 ],
 "metadata": {
  "kernelspec": {
   "display_name": "Python 3 (ipykernel)",
   "language": "python",
   "name": "python3"
  },
  "language_info": {
   "codemirror_mode": {
    "name": "ipython",
    "version": 3
   },
   "file_extension": ".py",
   "mimetype": "text/x-python",
   "name": "python",
   "nbconvert_exporter": "python",
   "pygments_lexer": "ipython3",
   "version": "3.11.11"
  }
 },
 "nbformat": 4,
 "nbformat_minor": 5
}
